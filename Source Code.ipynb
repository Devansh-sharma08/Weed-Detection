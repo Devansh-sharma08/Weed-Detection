{
 "cells": [
  {
   "cell_type": "markdown",
   "id": "852ba73b",
   "metadata": {},
   "source": [
    "# Weed Detection using Convolutional Neural Networks"
   ]
  },
  {
   "cell_type": "code",
   "execution_count": 1,
   "id": "57353bd2",
   "metadata": {},
   "outputs": [],
   "source": [
    "import io\n",
    "import matplotlib.pyplot as plt\n",
    "from matplotlib import image\n",
    "from pathlib import Path\n",
    "import os.path\n",
    "import glob\n",
    "import cv2\n",
    "from PIL import Image\n",
    "import numpy as np\n",
    "from keras.layers import Input\n",
    "import pandas as pd\n",
    "from keras.layers import concatenate\n",
    "import keras.engine.training \n",
    "from sklearn.utils import shuffle\n",
    "from keras.layers import Input\n",
    "from keras.models import Model\n",
    "from keras.layers import GlobalAveragePooling2D\n",
    "from tensorflow.keras.layers import Reshape\n",
    "from sklearn.model_selection import train_test_split\n",
    "from tensorflow.keras.utils import to_categorical\n",
    "from tensorflow.keras.models import Sequential\n",
    "from tensorflow.keras.layers import Conv2D, MaxPooling2D, Dense, Flatten, Concatenate\n",
    "from tensorflow.keras.preprocessing.image import ImageDataGenerator"
   ]
  },
  {
   "cell_type": "code",
   "execution_count": 2,
   "id": "7df642a1",
   "metadata": {},
   "outputs": [],
   "source": [
    "labels = [\"broadleaf\", \"grass\", \"soil\", \"soybean\"]"
   ]
  },
  {
   "cell_type": "code",
   "execution_count": 3,
   "id": "c76ddb74",
   "metadata": {},
   "outputs": [
    {
     "name": "stdout",
     "output_type": "stream",
     "text": [
      "C:\\Users\\Devansh Sharma\\Desktop\\capstone\\dataset/broadleaf/\n",
      "1191\n",
      "C:\\Users\\Devansh Sharma\\Desktop\\capstone\\dataset/grass/\n",
      "3520\n",
      "C:\\Users\\Devansh Sharma\\Desktop\\capstone\\dataset/soil/\n",
      "3249\n",
      "C:\\Users\\Devansh Sharma\\Desktop\\capstone\\dataset/soybean/\n",
      "7376\n"
     ]
    }
   ],
   "source": [
    "X  =[] \n",
    "Y = [] \n",
    "image_size = (227, 227)\n",
    "\n",
    "for i in labels:\n",
    "    Datasetspath = r\"C:\\Users\\Devansh Sharma\\Desktop\\capstone\\dataset/\" + i + \"/\"\n",
    "    print(Datasetspath)\n",
    "    fileRead = glob.glob(Datasetspath + \"*\")\n",
    "    print(len(fileRead))\n",
    "    \n",
    "    for file in fileRead:\n",
    "        image = cv2.imread(file)\n",
    "        img = cv2.resize(image, image_size)\n",
    "        X.append(img)\n",
    "        Y.append(i)\n",
    "X = np.array(X)\n",
    "Y = np.array(Y)"
   ]
  },
  {
   "cell_type": "code",
   "execution_count": 4,
   "id": "d7aa9c4f",
   "metadata": {},
   "outputs": [
    {
     "name": "stdout",
     "output_type": "stream",
     "text": [
      "C:\\Users\\Devansh Sharma\\Desktop\\capstone\\dataset/broadleaf/\n",
      "C:\\Users\\Devansh Sharma\\Desktop\\capstone\\dataset/broadleaf\\10.tif\n",
      "C:\\Users\\Devansh Sharma\\Desktop\\capstone\\dataset/grass/\n",
      "C:\\Users\\Devansh Sharma\\Desktop\\capstone\\dataset/grass\\10.tif\n",
      "C:\\Users\\Devansh Sharma\\Desktop\\capstone\\dataset/soil/\n",
      "C:\\Users\\Devansh Sharma\\Desktop\\capstone\\dataset/soil\\10.tif\n",
      "C:\\Users\\Devansh Sharma\\Desktop\\capstone\\dataset/soybean/\n",
      "C:\\Users\\Devansh Sharma\\Desktop\\capstone\\dataset/soybean\\10.tif\n"
     ]
    }
   ],
   "source": [
    "for i in labels:\n",
    "    Datasetspath = r\"C:\\Users\\Devansh Sharma\\Desktop\\capstone\\dataset/\"+i+\"/\"\n",
    "    print(Datasetspath)\n",
    "    fileRead = glob.glob(Datasetspath + \"*\")\n",
    "    print(fileRead[1])"
   ]
  },
  {
   "cell_type": "code",
   "execution_count": 5,
   "id": "f29a9e85",
   "metadata": {},
   "outputs": [
    {
     "data": {
      "text/plain": [
       "array([1., 0., 0., 0.], dtype=float32)"
      ]
     },
     "execution_count": 5,
     "metadata": {},
     "output_type": "execute_result"
    }
   ],
   "source": [
    "Temp_y = []\n",
    "for i in Y:\n",
    "    Temp_y.append(labels.index(i))\n",
    "Y = to_categorical(Temp_y)\n",
    "Y[0]"
   ]
  },
  {
   "cell_type": "code",
   "execution_count": 6,
   "id": "8f6f24bf",
   "metadata": {},
   "outputs": [],
   "source": [
    "X_train, X_test, Y_train, Y_test = train_test_split(X, Y, test_size = 0.3, random_state=101)\n",
    "X_train, X_val, Y_train, Y_val = train_test_split(X_train, Y_train, test_size=0.1, random_state=101)"
   ]
  },
  {
   "cell_type": "code",
   "execution_count": 9,
   "id": "ccc965d2",
   "metadata": {},
   "outputs": [],
   "source": []
  },
  {
   "cell_type": "code",
   "execution_count": 7,
   "id": "1c083ae4",
   "metadata": {},
   "outputs": [
    {
     "data": {
      "text/plain": [
       "((9661, 227, 227, 3), (9661, 4))"
      ]
     },
     "execution_count": 7,
     "metadata": {},
     "output_type": "execute_result"
    }
   ],
   "source": [
    "X_train.shape, Y_train.shape"
   ]
  },
  {
   "cell_type": "code",
   "execution_count": 8,
   "id": "2e38120f",
   "metadata": {},
   "outputs": [
    {
     "data": {
      "text/plain": [
       "((4601, 227, 227, 3), (4601, 4))"
      ]
     },
     "execution_count": 8,
     "metadata": {},
     "output_type": "execute_result"
    }
   ],
   "source": [
    "X_test.shape, Y_test.shape"
   ]
  },
  {
   "cell_type": "code",
   "execution_count": 9,
   "id": "ffab9dbd",
   "metadata": {},
   "outputs": [
    {
     "data": {
      "text/plain": [
       "((1074, 227, 227, 3), (1074, 4))"
      ]
     },
     "execution_count": 9,
     "metadata": {},
     "output_type": "execute_result"
    }
   ],
   "source": [
    "X_val.shape, Y_val.shape"
   ]
  },
  {
   "cell_type": "code",
   "execution_count": 10,
   "id": "bc8e40c6",
   "metadata": {},
   "outputs": [],
   "source": [
    "from keras.layers import Concatenate\n",
    "\n",
    "input_shape1 = (227, 227, 3)\n",
    "input_shape2 = (227, 227, 3)\n",
    "\n",
    "\n",
    "model1 = Sequential([\n",
    "    Conv2D(20,kernel_size=(5,5), activation='relu', input_shape=input_shape1),\n",
    "    MaxPooling2D((2,2)),\n",
    "    Conv2D(30,kernel_size=(3,3), activation='relu'),\n",
    "    MaxPooling2D((2,2)),\n",
    "    Conv2D(40,kernel_size=(3,3), activation='relu'),\n",
    "    MaxPooling2D((2,2)),\n",
    "    Conv2D(50,kernel_size=(3,3), activation='relu'),\n",
    "    MaxPooling2D((2,2)),\n",
    "    Conv2D(60,kernel_size=(3,3), activation='relu'),\n",
    "    MaxPooling2D((2,2)),\n",
    "    Flatten(),\n",
    "    \n",
    "])\n",
    "\n",
    "\n",
    "model2 = Sequential([\n",
    "    Conv2D(20,kernel_size=(5,5), activation='relu', dilation_rate=(3), input_shape=input_shape2),\n",
    "    MaxPooling2D((2,2)),\n",
    "    Conv2D(30,kernel_size=(3,3), activation='relu', dilation_rate=(2)),\n",
    "    MaxPooling2D((2,2)),\n",
    "    Conv2D(40,kernel_size=(3,3), activation='relu', dilation_rate=(2)),\n",
    "    MaxPooling2D((2,2)),\n",
    "    Conv2D(50,kernel_size=(3,3), activation='relu', dilation_rate=(1)),\n",
    "    MaxPooling2D((2,2)),\n",
    "    Conv2D(60,kernel_size=(3,3), activation='relu', dilation_rate=(1)),\n",
    "    MaxPooling2D((2,2)),\n",
    "    Flatten(),\n",
    "  \n",
    "])\n",
    "\n",
    "\n",
    "concatenated = Concatenate()([model1.output, model2.output])\n",
    "\n",
    "x = Flatten()(concatenated)\n",
    "x = Dense(128, activation='relu')(x)\n",
    "output = Dense(4, activation='softmax')(x)\n",
    "\n",
    "\n",
    "final_model = Model(inputs=[model1.input, model2.input], outputs=output)\n"
   ]
  },
  {
   "cell_type": "code",
   "execution_count": 11,
   "id": "ddb54ed1",
   "metadata": {},
   "outputs": [
    {
     "name": "stdout",
     "output_type": "stream",
     "text": [
      "Model: \"model\"\n",
      "__________________________________________________________________________________________________\n",
      " Layer (type)                   Output Shape         Param #     Connected to                     \n",
      "==================================================================================================\n",
      " conv2d_input (InputLayer)      [(None, 227, 227, 3  0           []                               \n",
      "                                )]                                                                \n",
      "                                                                                                  \n",
      " conv2d_5_input (InputLayer)    [(None, 227, 227, 3  0           []                               \n",
      "                                )]                                                                \n",
      "                                                                                                  \n",
      " conv2d (Conv2D)                (None, 223, 223, 20  1520        ['conv2d_input[0][0]']           \n",
      "                                )                                                                 \n",
      "                                                                                                  \n",
      " conv2d_5 (Conv2D)              (None, 215, 215, 20  1520        ['conv2d_5_input[0][0]']         \n",
      "                                )                                                                 \n",
      "                                                                                                  \n",
      " max_pooling2d (MaxPooling2D)   (None, 111, 111, 20  0           ['conv2d[0][0]']                 \n",
      "                                )                                                                 \n",
      "                                                                                                  \n",
      " max_pooling2d_5 (MaxPooling2D)  (None, 107, 107, 20  0          ['conv2d_5[0][0]']               \n",
      "                                )                                                                 \n",
      "                                                                                                  \n",
      " conv2d_1 (Conv2D)              (None, 109, 109, 30  5430        ['max_pooling2d[0][0]']          \n",
      "                                )                                                                 \n",
      "                                                                                                  \n",
      " conv2d_6 (Conv2D)              (None, 103, 103, 30  5430        ['max_pooling2d_5[0][0]']        \n",
      "                                )                                                                 \n",
      "                                                                                                  \n",
      " max_pooling2d_1 (MaxPooling2D)  (None, 54, 54, 30)  0           ['conv2d_1[0][0]']               \n",
      "                                                                                                  \n",
      " max_pooling2d_6 (MaxPooling2D)  (None, 51, 51, 30)  0           ['conv2d_6[0][0]']               \n",
      "                                                                                                  \n",
      " conv2d_2 (Conv2D)              (None, 52, 52, 40)   10840       ['max_pooling2d_1[0][0]']        \n",
      "                                                                                                  \n",
      " conv2d_7 (Conv2D)              (None, 47, 47, 40)   10840       ['max_pooling2d_6[0][0]']        \n",
      "                                                                                                  \n",
      " max_pooling2d_2 (MaxPooling2D)  (None, 26, 26, 40)  0           ['conv2d_2[0][0]']               \n",
      "                                                                                                  \n",
      " max_pooling2d_7 (MaxPooling2D)  (None, 23, 23, 40)  0           ['conv2d_7[0][0]']               \n",
      "                                                                                                  \n",
      " conv2d_3 (Conv2D)              (None, 24, 24, 50)   18050       ['max_pooling2d_2[0][0]']        \n",
      "                                                                                                  \n",
      " conv2d_8 (Conv2D)              (None, 21, 21, 50)   18050       ['max_pooling2d_7[0][0]']        \n",
      "                                                                                                  \n",
      " max_pooling2d_3 (MaxPooling2D)  (None, 12, 12, 50)  0           ['conv2d_3[0][0]']               \n",
      "                                                                                                  \n",
      " max_pooling2d_8 (MaxPooling2D)  (None, 10, 10, 50)  0           ['conv2d_8[0][0]']               \n",
      "                                                                                                  \n",
      " conv2d_4 (Conv2D)              (None, 10, 10, 60)   27060       ['max_pooling2d_3[0][0]']        \n",
      "                                                                                                  \n",
      " conv2d_9 (Conv2D)              (None, 8, 8, 60)     27060       ['max_pooling2d_8[0][0]']        \n",
      "                                                                                                  \n",
      " max_pooling2d_4 (MaxPooling2D)  (None, 5, 5, 60)    0           ['conv2d_4[0][0]']               \n",
      "                                                                                                  \n",
      " max_pooling2d_9 (MaxPooling2D)  (None, 4, 4, 60)    0           ['conv2d_9[0][0]']               \n",
      "                                                                                                  \n",
      " flatten (Flatten)              (None, 1500)         0           ['max_pooling2d_4[0][0]']        \n",
      "                                                                                                  \n",
      " flatten_1 (Flatten)            (None, 960)          0           ['max_pooling2d_9[0][0]']        \n",
      "                                                                                                  \n",
      " concatenate (Concatenate)      (None, 2460)         0           ['flatten[0][0]',                \n",
      "                                                                  'flatten_1[0][0]']              \n",
      "                                                                                                  \n",
      " flatten_2 (Flatten)            (None, 2460)         0           ['concatenate[0][0]']            \n",
      "                                                                                                  \n",
      " dense (Dense)                  (None, 128)          315008      ['flatten_2[0][0]']              \n",
      "                                                                                                  \n",
      " dense_1 (Dense)                (None, 4)            516         ['dense[0][0]']                  \n",
      "                                                                                                  \n",
      "==================================================================================================\n",
      "Total params: 441,324\n",
      "Trainable params: 441,324\n",
      "Non-trainable params: 0\n",
      "__________________________________________________________________________________________________\n"
     ]
    }
   ],
   "source": [
    "final_model.summary()"
   ]
  },
  {
   "cell_type": "code",
   "execution_count": 12,
   "id": "b93abd3e",
   "metadata": {},
   "outputs": [],
   "source": [
    "from keras.optimizers.legacy.adam import Adam\n",
    "optimizer = Adam(learning_rate=0.0001)\n",
    "final_model.compile(loss='categorical_crossentropy',\n",
    "                     optimizer=optimizer,\n",
    "                     metrics=['accuracy'])"
   ]
  },
  {
   "cell_type": "code",
   "execution_count": 13,
   "id": "11a7bf65",
   "metadata": {
    "scrolled": false
   },
   "outputs": [
    {
     "name": "stdout",
     "output_type": "stream",
     "text": [
      "Epoch 1/50\n",
      "302/302 [==============================] - 551s 2s/step - loss: 0.8560 - accuracy: 0.7546 - val_loss: 0.4356 - val_accuracy: 0.8418\n",
      "Epoch 2/50\n",
      "302/302 [==============================] - 561s 2s/step - loss: 0.3527 - accuracy: 0.8689 - val_loss: 0.3338 - val_accuracy: 0.8729\n",
      "Epoch 3/50\n",
      "302/302 [==============================] - 554s 2s/step - loss: 0.2758 - accuracy: 0.8955 - val_loss: 0.3229 - val_accuracy: 0.8744\n",
      "Epoch 4/50\n",
      "302/302 [==============================] - 541s 2s/step - loss: 0.2260 - accuracy: 0.9164 - val_loss: 0.2359 - val_accuracy: 0.9085\n",
      "Epoch 5/50\n",
      "302/302 [==============================] - 545s 2s/step - loss: 0.1766 - accuracy: 0.9316 - val_loss: 0.2525 - val_accuracy: 0.9107\n",
      "Epoch 6/50\n",
      "302/302 [==============================] - 543s 2s/step - loss: 0.1465 - accuracy: 0.9467 - val_loss: 0.2480 - val_accuracy: 0.9070\n",
      "Epoch 7/50\n",
      "302/302 [==============================] - 555s 2s/step - loss: 0.1074 - accuracy: 0.9618 - val_loss: 0.2529 - val_accuracy: 0.9096\n",
      "Epoch 8/50\n",
      "302/302 [==============================] - 545s 2s/step - loss: 0.0934 - accuracy: 0.9667 - val_loss: 0.2007 - val_accuracy: 0.9261\n",
      "Epoch 9/50\n",
      "302/302 [==============================] - 545s 2s/step - loss: 0.0776 - accuracy: 0.9735 - val_loss: 0.2363 - val_accuracy: 0.9163\n",
      "Epoch 10/50\n",
      "302/302 [==============================] - 511s 2s/step - loss: 0.0640 - accuracy: 0.9781 - val_loss: 0.2791 - val_accuracy: 0.9120\n",
      "Epoch 11/50\n",
      "302/302 [==============================] - 507s 2s/step - loss: 0.0586 - accuracy: 0.9805 - val_loss: 0.2225 - val_accuracy: 0.9309\n",
      "Epoch 12/50\n",
      "302/302 [==============================] - 491s 2s/step - loss: 0.0597 - accuracy: 0.9800 - val_loss: 0.2954 - val_accuracy: 0.9052\n",
      "Epoch 13/50\n",
      "302/302 [==============================] - 500s 2s/step - loss: 0.0261 - accuracy: 0.9940 - val_loss: 0.2088 - val_accuracy: 0.9333\n",
      "Epoch 14/50\n",
      "302/302 [==============================] - 493s 2s/step - loss: 0.0123 - accuracy: 0.9989 - val_loss: 0.1866 - val_accuracy: 0.9413\n",
      "Epoch 15/50\n",
      "302/302 [==============================] - 634s 2s/step - loss: 0.0258 - accuracy: 0.9921 - val_loss: 0.3193 - val_accuracy: 0.9065\n",
      "Epoch 16/50\n",
      "302/302 [==============================] - 515s 2s/step - loss: 0.0324 - accuracy: 0.9898 - val_loss: 0.2099 - val_accuracy: 0.9320\n",
      "Epoch 17/50\n",
      "302/302 [==============================] - 513s 2s/step - loss: 0.0513 - accuracy: 0.9822 - val_loss: 0.1942 - val_accuracy: 0.9404\n",
      "Epoch 18/50\n",
      "302/302 [==============================] - 533s 2s/step - loss: 0.0075 - accuracy: 0.9994 - val_loss: 0.1995 - val_accuracy: 0.9402\n",
      "Epoch 19/50\n",
      "302/302 [==============================] - 522s 2s/step - loss: 0.0036 - accuracy: 0.9997 - val_loss: 0.1959 - val_accuracy: 0.9437\n",
      "Epoch 20/50\n",
      "302/302 [==============================] - 520s 2s/step - loss: 0.0018 - accuracy: 0.9999 - val_loss: 0.2029 - val_accuracy: 0.9433\n",
      "Epoch 21/50\n",
      "302/302 [==============================] - 526s 2s/step - loss: 0.0010 - accuracy: 1.0000 - val_loss: 0.2179 - val_accuracy: 0.9420\n",
      "Epoch 22/50\n",
      "302/302 [==============================] - 534s 2s/step - loss: 7.5785e-04 - accuracy: 1.0000 - val_loss: 0.2089 - val_accuracy: 0.9457\n",
      "Epoch 23/50\n",
      "302/302 [==============================] - 523s 2s/step - loss: 6.0832e-04 - accuracy: 1.0000 - val_loss: 0.2156 - val_accuracy: 0.9437\n",
      "Epoch 24/50\n",
      "302/302 [==============================] - 518s 2s/step - loss: 4.7164e-04 - accuracy: 1.0000 - val_loss: 0.2174 - val_accuracy: 0.9452\n",
      "Epoch 25/50\n",
      "302/302 [==============================] - 500s 2s/step - loss: 3.6892e-04 - accuracy: 1.0000 - val_loss: 0.2182 - val_accuracy: 0.9433\n",
      "Epoch 26/50\n",
      "302/302 [==============================] - 523s 2s/step - loss: 3.1124e-04 - accuracy: 1.0000 - val_loss: 0.2375 - val_accuracy: 0.9431\n",
      "Epoch 27/50\n",
      "302/302 [==============================] - 512s 2s/step - loss: 2.6339e-04 - accuracy: 1.0000 - val_loss: 0.2325 - val_accuracy: 0.9446\n",
      "Epoch 28/50\n",
      "302/302 [==============================] - 484s 2s/step - loss: 2.1175e-04 - accuracy: 1.0000 - val_loss: 0.2355 - val_accuracy: 0.9450\n",
      "Epoch 29/50\n",
      "302/302 [==============================] - 485s 2s/step - loss: 1.7738e-04 - accuracy: 1.0000 - val_loss: 0.2446 - val_accuracy: 0.9450\n",
      "Epoch 30/50\n",
      "302/302 [==============================] - 530s 2s/step - loss: 1.4843e-04 - accuracy: 1.0000 - val_loss: 0.2416 - val_accuracy: 0.9454\n",
      "Epoch 31/50\n",
      "302/302 [==============================] - 502s 2s/step - loss: 1.2723e-04 - accuracy: 1.0000 - val_loss: 0.2429 - val_accuracy: 0.9468\n",
      "Epoch 32/50\n",
      "302/302 [==============================] - 498s 2s/step - loss: 1.0648e-04 - accuracy: 1.0000 - val_loss: 0.2420 - val_accuracy: 0.9448\n",
      "Epoch 33/50\n",
      "302/302 [==============================] - 497s 2s/step - loss: 8.4999e-05 - accuracy: 1.0000 - val_loss: 0.2475 - val_accuracy: 0.9461\n",
      "Epoch 34/50\n",
      "302/302 [==============================] - 505s 2s/step - loss: 6.9483e-05 - accuracy: 1.0000 - val_loss: 0.2603 - val_accuracy: 0.9463\n",
      "Epoch 35/50\n",
      "302/302 [==============================] - 482s 2s/step - loss: 6.0709e-05 - accuracy: 1.0000 - val_loss: 0.2564 - val_accuracy: 0.9454\n",
      "Epoch 36/50\n",
      "302/302 [==============================] - 530s 2s/step - loss: 5.1216e-05 - accuracy: 1.0000 - val_loss: 0.2646 - val_accuracy: 0.9459\n",
      "Epoch 37/50\n",
      "302/302 [==============================] - 478s 2s/step - loss: 4.5570e-05 - accuracy: 1.0000 - val_loss: 0.2605 - val_accuracy: 0.9472\n",
      "Epoch 38/50\n",
      "302/302 [==============================] - 475s 2s/step - loss: 3.4924e-05 - accuracy: 1.0000 - val_loss: 0.2637 - val_accuracy: 0.9470\n",
      "Epoch 39/50\n",
      "302/302 [==============================] - 477s 2s/step - loss: 3.0607e-05 - accuracy: 1.0000 - val_loss: 0.2769 - val_accuracy: 0.9465\n",
      "Epoch 40/50\n",
      "302/302 [==============================] - 475s 2s/step - loss: 2.6251e-05 - accuracy: 1.0000 - val_loss: 0.2859 - val_accuracy: 0.9450\n",
      "Epoch 41/50\n",
      "302/302 [==============================] - 475s 2s/step - loss: 2.0174e-05 - accuracy: 1.0000 - val_loss: 0.2790 - val_accuracy: 0.9468\n",
      "Epoch 42/50\n",
      "302/302 [==============================] - 497s 2s/step - loss: 1.6520e-05 - accuracy: 1.0000 - val_loss: 0.2802 - val_accuracy: 0.9478\n",
      "Epoch 43/50\n",
      "302/302 [==============================] - 512s 2s/step - loss: 1.3706e-05 - accuracy: 1.0000 - val_loss: 0.2877 - val_accuracy: 0.9472\n",
      "Epoch 44/50\n",
      "302/302 [==============================] - 503s 2s/step - loss: 1.1119e-05 - accuracy: 1.0000 - val_loss: 0.2879 - val_accuracy: 0.9487\n",
      "Epoch 45/50\n",
      "302/302 [==============================] - 524s 2s/step - loss: 9.0869e-06 - accuracy: 1.0000 - val_loss: 0.2890 - val_accuracy: 0.9489\n",
      "Epoch 46/50\n",
      "302/302 [==============================] - 732s 2s/step - loss: 8.5049e-06 - accuracy: 1.0000 - val_loss: 0.2959 - val_accuracy: 0.9478\n",
      "Epoch 47/50\n",
      "302/302 [==============================] - 723s 2s/step - loss: 6.3565e-06 - accuracy: 1.0000 - val_loss: 0.2985 - val_accuracy: 0.9476\n",
      "Epoch 48/50\n",
      "302/302 [==============================] - 722s 2s/step - loss: 5.2793e-06 - accuracy: 1.0000 - val_loss: 0.3328 - val_accuracy: 0.9468\n",
      "Epoch 49/50\n",
      "302/302 [==============================] - 726s 2s/step - loss: 4.6801e-06 - accuracy: 1.0000 - val_loss: 0.3011 - val_accuracy: 0.9494\n",
      "Epoch 50/50\n",
      "302/302 [==============================] - 705s 2s/step - loss: 3.6315e-06 - accuracy: 1.0000 - val_loss: 0.3083 - val_accuracy: 0.9478\n"
     ]
    }
   ],
   "source": [
    "history = final_model.fit([X_train, X_train], Y_train, validation_data=([X_test,X_test], Y_test), epochs = 50, batch_size = 32, verbose = 1)"
   ]
  },
  {
   "cell_type": "code",
   "execution_count": 14,
   "id": "1c68f0aa",
   "metadata": {
    "scrolled": false
   },
   "outputs": [
    {
     "name": "stdout",
     "output_type": "stream",
     "text": [
      "{'loss': [0.8560419678688049, 0.3527078330516815, 0.2758055031299591, 0.22598157823085785, 0.1765756458044052, 0.1465173214673996, 0.10737598687410355, 0.09338869154453278, 0.07762712985277176, 0.06395360082387924, 0.05856246501207352, 0.05972820892930031, 0.026101240888237953, 0.0122707299888134, 0.02579379267990589, 0.03237822651863098, 0.05127395689487457, 0.007537759840488434, 0.0035981186665594578, 0.001816291594877839, 0.0010316455736756325, 0.0007578507647849619, 0.0006083223270252347, 0.0004716353432741016, 0.0003689203003887087, 0.00031123566441237926, 0.0002633861149661243, 0.0002117547846864909, 0.00017738284077495337, 0.00014842652308288962, 0.00012722870451398194, 0.00010647651652107015, 8.499886462232098e-05, 6.948287773411721e-05, 6.070897507015616e-05, 5.121567301102914e-05, 4.556975909508765e-05, 3.492410542094149e-05, 3.0606548534706235e-05, 2.6250789233017713e-05, 2.01741058845073e-05, 1.6519594282726757e-05, 1.3706184290640522e-05, 1.1118699148937594e-05, 9.086857062357012e-06, 8.504869583703112e-06, 6.356456651701592e-06, 5.279313427308807e-06, 4.680141955759609e-06, 3.6315113902674057e-06], 'accuracy': [0.7545802593231201, 0.8688541650772095, 0.8954559564590454, 0.9163647890090942, 0.9315806031227112, 0.9466928839683533, 0.9618052244186401, 0.9666700959205627, 0.9735016822814941, 0.9780560731887817, 0.9805403351783752, 0.9800227880477905, 0.9939965009689331, 0.9988613724708557, 0.9921333193778992, 0.9897525906562805, 0.9821964502334595, 0.9993789196014404, 0.9996894598007202, 0.9998964667320251, 1.0, 1.0, 1.0, 1.0, 1.0, 1.0, 1.0, 1.0, 1.0, 1.0, 1.0, 1.0, 1.0, 1.0, 1.0, 1.0, 1.0, 1.0, 1.0, 1.0, 1.0, 1.0, 1.0, 1.0, 1.0, 1.0, 1.0, 1.0, 1.0, 1.0], 'val_loss': [0.4355938136577606, 0.3337802588939667, 0.32287174463272095, 0.2359118014574051, 0.25246813893318176, 0.24804316461086273, 0.25286826491355896, 0.2007480263710022, 0.2362852543592453, 0.279096782207489, 0.22248105704784393, 0.29541218280792236, 0.2087811976671219, 0.18656480312347412, 0.3192903995513916, 0.20985206961631775, 0.1941608488559723, 0.1995399445295334, 0.19586923718452454, 0.2028643935918808, 0.2178625762462616, 0.20892055332660675, 0.21559454500675201, 0.21739350259304047, 0.2182266116142273, 0.23753105103969574, 0.23249730467796326, 0.23554465174674988, 0.2446097731590271, 0.24160733819007874, 0.24286088347434998, 0.24200168251991272, 0.2474527657032013, 0.26026666164398193, 0.25644242763519287, 0.26462456583976746, 0.2604738473892212, 0.26372575759887695, 0.27692484855651855, 0.285908043384552, 0.2789808213710785, 0.2802300751209259, 0.28768855333328247, 0.287911981344223, 0.2889518737792969, 0.29592815041542053, 0.29854562878608704, 0.3327797055244446, 0.30111929774284363, 0.30825093388557434], 'val_accuracy': [0.841773509979248, 0.8728537559509277, 0.8743751645088196, 0.9084981679916382, 0.910671591758728, 0.9069767594337463, 0.9095848798751831, 0.9261029958724976, 0.9163225293159485, 0.9119756817817688, 0.930884599685669, 0.9052379727363586, 0.9332754015922546, 0.941317081451416, 0.9065420627593994, 0.9319713115692139, 0.9404477477073669, 0.9402303695678711, 0.9437078833580017, 0.9432731866836548, 0.9419691562652588, 0.9456639885902405, 0.9437078833580017, 0.9452292919158936, 0.9432731866836548, 0.9430558681488037, 0.9445772767066956, 0.9450119733810425, 0.9450119733810425, 0.9454466700553894, 0.9467507004737854, 0.9447945952415466, 0.9460986852645874, 0.9463160037994385, 0.9454466700553894, 0.9458813071250916, 0.9471853971481323, 0.9469680786132812, 0.9465333819389343, 0.9450119733810425, 0.9467507004737854, 0.9478374123573303, 0.9471853971481323, 0.9487068057060242, 0.9489241242408752, 0.9478374123573303, 0.9476200938224792, 0.9467507004737854, 0.9493588209152222, 0.9478374123573303]}\n"
     ]
    }
   ],
   "source": [
    "val = history.history\n",
    "print (val)\n"
   ]
  },
  {
   "cell_type": "code",
   "execution_count": 15,
   "id": "ab1ea1f6",
   "metadata": {},
   "outputs": [
    {
     "name": "stdout",
     "output_type": "stream",
     "text": [
      "34/34 [==============================] - 22s 657ms/step - loss: 0.2790 - accuracy: 0.9628\n",
      "Test loss: 0.27898111939430237\n",
      "Test accuracy: 0.9627560377120972\n"
     ]
    }
   ],
   "source": [
    "loss, accuracy = final_model.evaluate([X_val, X_val], Y_val)\n",
    "\n",
    "print(\"Test loss:\", loss)\n",
    "print(\"Test accuracy:\", accuracy)\n"
   ]
  },
  {
   "cell_type": "code",
   "execution_count": 18,
   "id": "fdeda7e8",
   "metadata": {
    "scrolled": true
   },
   "outputs": [
    {
     "name": "stdout",
     "output_type": "stream",
     "text": [
      "34/34 [==============================] - 28s 794ms/step\n",
      "[[ 67  17   0   2]\n",
      " [  6 215   1   8]\n",
      " [  0   0 238   0]\n",
      " [  1   5   0 514]]\n"
     ]
    }
   ],
   "source": [
    "from sklearn.metrics import confusion_matrix\n",
    "import seaborn as sns\n",
    "Y_pred = final_model.predict([X_val, X_val])\n",
    "Y_pred_classes = np.argmax(Y_pred, axis=1)\n",
    "\n",
    "Y_test_classes = np.argmax(Y_val, axis=1)\n",
    "\n",
    "confusion_mtx = confusion_matrix(Y_test_classes, Y_pred_classes)\n",
    "\n",
    "print(confusion_mtx)"
   ]
  },
  {
   "cell_type": "code",
   "execution_count": 19,
   "id": "e1da5f4f",
   "metadata": {},
   "outputs": [
    {
     "data": {
      "text/plain": [
       "<Axes: >"
      ]
     },
     "execution_count": 19,
     "metadata": {},
     "output_type": "execute_result"
    },
    {
     "data": {
      "image/png": "[encoded data removed]",
      "text/plain": [
       "<Figure size 640x480 with 2 Axes>"
      ]
     },
     "metadata": {},
     "output_type": "display_data"
    }
   ],
   "source": [
    "sns.heatmap(confusion_mtx, annot=True, fmt='d', cmap=\"Blues\")"
   ]
  },
  {
   "cell_type": "code",
   "execution_count": 20,
   "id": "0f029ccd",
   "metadata": {},
   "outputs": [
    {
     "data": {
      "image/png": "[encoded data removed]",
      "text/plain": [
       "<Figure size 640x480 with 1 Axes>"
      ]
     },
     "metadata": {},
     "output_type": "display_data"
    },
    {
     "data": {
      "image/png": "[encoded data removed]",
      "text/plain": [
       "<Figure size 640x480 with 1 Axes>"
      ]
     },
     "metadata": {},
     "output_type": "display_data"
    }
   ],
   "source": [
    "plt.plot(history.history['accuracy'])\n",
    "plt.plot(history.history['val_accuracy'])\n",
    "plt.title('Model Accuracy')\n",
    "plt.ylabel('Accuracy')\n",
    "plt.xlabel('Epoch')\n",
    "plt.legend(['Train', 'Validation'], loc='upper left')\n",
    "plt.show()\n",
    "\n",
    "plt.plot(history.history['loss'])\n",
    "plt.plot(history.history['val_loss'])\n",
    "plt.title('Model Loss')\n",
    "plt.ylabel('Loss')\n",
    "plt.xlabel('Epoch')\n",
    "plt.legend(['Train', 'Validation'], loc='upper left')\n",
    "plt.show()\n"
   ]
  },
  {
   "cell_type": "code",
   "execution_count": null,
   "id": "6db846a8",
   "metadata": {
    "scrolled": false
   },
   "outputs": [],
   "source": []
  },
  {
   "cell_type": "code",
   "execution_count": null,
   "id": "1174a73d",
   "metadata": {
    "scrolled": true
   },
   "outputs": [],
   "source": []
  },
  {
   "cell_type": "code",
   "execution_count": null,
   "id": "ad688ae2",
   "metadata": {},
   "outputs": [],
   "source": []
  }
 ],
 "metadata": {
  "kernelspec": {
   "display_name": "Python 3 (ipykernel)",
   "language": "python",
   "name": "python3"
  },
  "language_info": {
   "codemirror_mode": {
    "name": "ipython",
    "version": 3
   },
   "file_extension": ".py",
   "mimetype": "text/x-python",
   "name": "python",
   "nbconvert_exporter": "python",
   "pygments_lexer": "ipython3",
   "version": "3.11.3"
  }
 },
 "nbformat": 4,
 "nbformat_minor": 5
}
